{
 "cells": [
  {
   "cell_type": "code",
   "execution_count": 1,
   "metadata": {},
   "outputs": [],
   "source": [
    "from sqlalchemy import create_engine\n",
    "from sqlalchemy import Column, Integer, String\n",
    "from sqlalchemy.ext.declarative import declarative_base\n",
    "from sqlalchemy.orm import sessionmaker\n",
    "from sqlalchemy import ForeignKey\n",
    "from sqlalchemy.orm import relationship"
   ]
  },
  {
   "cell_type": "code",
   "execution_count": 7,
   "metadata": {},
   "outputs": [],
   "source": [
    "engine = create_engine('sqlite:///:memory:', echo=True) # echo 标志是日志记录的快捷方式，可以看到生成的 sql\n",
    "Base = declarative_base()\n",
    "Session = sessionmaker(bind=engine)\n",
    "session = Session()"
   ]
  },
  {
   "cell_type": "code",
   "execution_count": 8,
   "metadata": {},
   "outputs": [],
   "source": [
    "class User(Base):\n",
    "    __tablename__ = 'users'\n",
    "    id = Column(Integer, primary_key=True)\n",
    "    name = Column(String)\n",
    "    fullname = Column(String)\n",
    "    nickname = Column(String)\n",
    "    \n",
    "    def __repr__(self):\n",
    "        return f'<User(name={self.name}, fullname={self.fullname}, nickname={self.nickname})>'\n",
    "\n",
    "\n",
    "class Address(Base):\n",
    "    __tablename__ = 'addresses'\n",
    "    id = Column(Integer, primary_key=True)\n",
    "    email_address = Column(String, nullable=False)\n",
    "    user_id = Column(Integer, ForeignKey('users.id'))\n",
    "\n",
    "    user = relationship(\"User\", back_populates=\"addresses\")\n",
    "\n",
    "    def __repr__(self):\n",
    "        return \"<Address(email_address='%s')>\" % self.email_address\n",
    "\n",
    "User.addresses = relationship(\"Address\", order_by=Address.id, back_populates=\"user\")"
   ]
  },
  {
   "cell_type": "code",
   "execution_count": 9,
   "metadata": {},
   "outputs": [
    {
     "name": "stdout",
     "output_type": "stream",
     "text": [
      "2019-11-28 19:11:08,577 INFO sqlalchemy.engine.base.Engine SELECT CAST('test plain returns' AS VARCHAR(60)) AS anon_1\n",
      "2019-11-28 19:11:08,578 INFO sqlalchemy.engine.base.Engine ()\n",
      "2019-11-28 19:11:08,579 INFO sqlalchemy.engine.base.Engine SELECT CAST('test unicode returns' AS VARCHAR(60)) AS anon_1\n",
      "2019-11-28 19:11:08,579 INFO sqlalchemy.engine.base.Engine ()\n",
      "2019-11-28 19:11:08,580 INFO sqlalchemy.engine.base.Engine PRAGMA main.table_info(\"users\")\n",
      "2019-11-28 19:11:08,580 INFO sqlalchemy.engine.base.Engine ()\n",
      "2019-11-28 19:11:08,581 INFO sqlalchemy.engine.base.Engine PRAGMA temp.table_info(\"users\")\n",
      "2019-11-28 19:11:08,581 INFO sqlalchemy.engine.base.Engine ()\n",
      "2019-11-28 19:11:08,582 INFO sqlalchemy.engine.base.Engine PRAGMA main.table_info(\"addresses\")\n",
      "2019-11-28 19:11:08,583 INFO sqlalchemy.engine.base.Engine ()\n",
      "2019-11-28 19:11:08,583 INFO sqlalchemy.engine.base.Engine PRAGMA temp.table_info(\"addresses\")\n",
      "2019-11-28 19:11:08,583 INFO sqlalchemy.engine.base.Engine ()\n",
      "2019-11-28 19:11:08,585 INFO sqlalchemy.engine.base.Engine \n",
      "CREATE TABLE users (\n",
      "\tid INTEGER NOT NULL, \n",
      "\tname VARCHAR, \n",
      "\tfullname VARCHAR, \n",
      "\tnickname VARCHAR, \n",
      "\tPRIMARY KEY (id)\n",
      ")\n",
      "\n",
      "\n",
      "2019-11-28 19:11:08,585 INFO sqlalchemy.engine.base.Engine ()\n",
      "2019-11-28 19:11:08,586 INFO sqlalchemy.engine.base.Engine COMMIT\n",
      "2019-11-28 19:11:08,586 INFO sqlalchemy.engine.base.Engine \n",
      "CREATE TABLE addresses (\n",
      "\tid INTEGER NOT NULL, \n",
      "\temail_address VARCHAR NOT NULL, \n",
      "\tuser_id INTEGER, \n",
      "\tPRIMARY KEY (id), \n",
      "\tFOREIGN KEY(user_id) REFERENCES users (id)\n",
      ")\n",
      "\n",
      "\n",
      "2019-11-28 19:11:08,587 INFO sqlalchemy.engine.base.Engine ()\n",
      "2019-11-28 19:11:08,588 INFO sqlalchemy.engine.base.Engine COMMIT\n"
     ]
    }
   ],
   "source": [
    "Base.metadata.create_all(engine)"
   ]
  },
  {
   "cell_type": "code",
   "execution_count": 10,
   "metadata": {},
   "outputs": [],
   "source": [
    "jack = User(name='jack', fullname='Jack Bean', nickname='gjffdd')"
   ]
  },
  {
   "cell_type": "code",
   "execution_count": 11,
   "metadata": {},
   "outputs": [
    {
     "data": {
      "text/plain": [
       "[]"
      ]
     },
     "execution_count": 11,
     "metadata": {},
     "output_type": "execute_result"
    }
   ],
   "source": [
    "jack.addresses"
   ]
  },
  {
   "cell_type": "code",
   "execution_count": null,
   "metadata": {},
   "outputs": [],
   "source": []
  }
 ],
 "metadata": {
  "kernelspec": {
   "display_name": "Python 3",
   "language": "python",
   "name": "python3"
  },
  "language_info": {
   "codemirror_mode": {
    "name": "ipython",
    "version": 3
   },
   "file_extension": ".py",
   "mimetype": "text/x-python",
   "name": "python",
   "nbconvert_exporter": "python",
   "pygments_lexer": "ipython3",
   "version": "3.6.8"
  }
 },
 "nbformat": 4,
 "nbformat_minor": 1
}
